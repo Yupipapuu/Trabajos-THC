{
  "nbformat": 4,
  "nbformat_minor": 0,
  "metadata": {
    "colab": {
      "provenance": [],
      "authorship_tag": "ABX9TyNjiGUkeS5hz1QbYosnlGwX",
      "include_colab_link": true
    },
    "kernelspec": {
      "name": "python3",
      "display_name": "Python 3"
    },
    "language_info": {
      "name": "python"
    }
  },
  "cells": [
    {
      "cell_type": "markdown",
      "metadata": {
        "id": "view-in-github",
        "colab_type": "text"
      },
      "source": [
        "<a href=\"https://colab.research.google.com/github/Yupipapuu/Trabajos-THC/blob/main/29_10_2024_THC.ipynb\" target=\"_parent\"><img src=\"https://colab.research.google.com/assets/colab-badge.svg\" alt=\"Open In Colab\"/></a>"
      ]
    },
    {
      "cell_type": "code",
      "source": [
        "import numpy as np"
      ],
      "metadata": {
        "id": "Pr0LR_4zcfUg"
      },
      "execution_count": 6,
      "outputs": []
    },
    {
      "cell_type": "code",
      "source": [
        "a=np.array([1,2,3,4])#arreglo\n",
        "print(type(a))\n",
        "<class 'numpy.array'>\n",
        "print(a)\n",
        "[1 2 3 4]"
      ],
      "metadata": {
        "colab": {
          "base_uri": "https://localhost:8080/",
          "height": 106
        },
        "id": "bU7cDhzpc4G4",
        "outputId": "814e1bd1-0970-4e20-d0c5-fecde58794e4"
      },
      "execution_count": 7,
      "outputs": [
        {
          "output_type": "error",
          "ename": "SyntaxError",
          "evalue": "invalid syntax (<ipython-input-7-6fb54b6fe39a>, line 3)",
          "traceback": [
            "\u001b[0;36m  File \u001b[0;32m\"<ipython-input-7-6fb54b6fe39a>\"\u001b[0;36m, line \u001b[0;32m3\u001b[0m\n\u001b[0;31m    <class 'numpy.array'>\u001b[0m\n\u001b[0m    ^\u001b[0m\n\u001b[0;31mSyntaxError\u001b[0m\u001b[0;31m:\u001b[0m invalid syntax\n"
          ]
        }
      ]
    },
    {
      "cell_type": "code",
      "source": [
        "arr = np.array([1,2,3,4,5])\n",
        "\n",
        "print(arr)\n",
        "\n",
        "print(type(arr))"
      ],
      "metadata": {
        "colab": {
          "base_uri": "https://localhost:8080/"
        },
        "id": "XXoizO9Wb8LS",
        "outputId": "49b7e84c-ad0b-4947-e179-6c67d578128a"
      },
      "execution_count": 8,
      "outputs": [
        {
          "output_type": "stream",
          "name": "stdout",
          "text": [
            "[1 2 3 4 5]\n",
            "<class 'numpy.ndarray'>\n"
          ]
        }
      ]
    },
    {
      "cell_type": "code",
      "source": [
        "A=np.array([[1/2,2,3/4],[0,1,0],[2,4,5]])\n",
        "print(A)"
      ],
      "metadata": {
        "colab": {
          "base_uri": "https://localhost:8080/"
        },
        "id": "zYZ75NRvdzpE",
        "outputId": "8ca3c522-8601-4d75-eccd-5c6e4d741dcb"
      },
      "execution_count": 10,
      "outputs": [
        {
          "output_type": "stream",
          "name": "stdout",
          "text": [
            "[[0.5  2.   0.75]\n",
            " [0.   1.   0.  ]\n",
            " [2.   4.   5.  ]]\n"
          ]
        }
      ]
    },
    {
      "cell_type": "code",
      "source": [
        "import numpy as np\n",
        "A=np.array([[1,'0'],[0,0]])\n",
        "print(A)"
      ],
      "metadata": {
        "colab": {
          "base_uri": "https://localhost:8080/"
        },
        "id": "WfG79yAgfpNL",
        "outputId": "10d6a9cc-1ded-4050-9cf8-ca4b5662b1b8"
      },
      "execution_count": 4,
      "outputs": [
        {
          "output_type": "stream",
          "name": "stdout",
          "text": [
            "[['1' '0']\n",
            " ['0' '0']]\n"
          ]
        }
      ]
    },
    {
      "cell_type": "code",
      "source": [
        "Vec=np.array([2,0,-1,4,5,6,7,8,9,10])\n",
        "print(Vec)\n",
        "print(Vec[1:4])\n",
        "print(Vec[2:5])\n",
        "print(Vec[1:10:2])"
      ],
      "metadata": {
        "colab": {
          "base_uri": "https://localhost:8080/"
        },
        "id": "TwgLvIoMkws4",
        "outputId": "c1d0245f-4cdc-4969-83d5-11d9fa5d79b2"
      },
      "execution_count": 16,
      "outputs": [
        {
          "output_type": "stream",
          "name": "stdout",
          "text": [
            "[ 2  0 -1  4  5  6  7  8  9 10]\n",
            "[ 0 -1  4]\n",
            "[-1  4  5]\n",
            "[ 0  4  6  8 10]\n"
          ]
        }
      ]
    },
    {
      "cell_type": "code",
      "source": [
        "Mat=np.array([[1,2,3,4],[5,6,7,8],[9,10,11,12]])\n",
        "#Acceder al 2\n",
        "Mat[0,1]\n",
        "Mat[2,2]\n",
        "Mat[1,3]\n",
        "Mat[-1,-1]\n",
        "Mat[:,1]\n",
        "Mat[1,1:4]\n",
        "Mat[1:3,2]\n",
        "Mat[1:3,1:4]"
      ],
      "metadata": {
        "colab": {
          "base_uri": "https://localhost:8080/"
        },
        "id": "0rCkKczno0iA",
        "outputId": "3e36a672-6062-41d5-dfb0-ace127cee465"
      },
      "execution_count": 32,
      "outputs": [
        {
          "output_type": "execute_result",
          "data": {
            "text/plain": [
              "array([[ 6,  7,  8],\n",
              "       [10, 11, 12]])"
            ]
          },
          "metadata": {},
          "execution_count": 32
        }
      ]
    },
    {
      "cell_type": "code",
      "source": [
        "Mat[0:2,0:3]"
      ],
      "metadata": {
        "colab": {
          "base_uri": "https://localhost:8080/"
        },
        "id": "8qiGd85rqieV",
        "outputId": "56a6daea-6aa5-4393-a60c-84801a8bcfa9"
      },
      "execution_count": 35,
      "outputs": [
        {
          "output_type": "execute_result",
          "data": {
            "text/plain": [
              "array([[1, 2, 3],\n",
              "       [5, 6, 7]])"
            ]
          },
          "metadata": {},
          "execution_count": 35
        }
      ]
    },
    {
      "cell_type": "code",
      "source": [
        "Mat=np.array([[1,2,3,4],[5,6,7,8],[9,10,11,12]])\n",
        "Mat+Mat"
      ],
      "metadata": {
        "colab": {
          "base_uri": "https://localhost:8080/"
        },
        "id": "sf6RQPePubcK",
        "outputId": "cb6ca5c1-8dd0-4f61-8edf-42e7f7ae5923"
      },
      "execution_count": 36,
      "outputs": [
        {
          "output_type": "execute_result",
          "data": {
            "text/plain": [
              "array([[ 2,  4,  6,  8],\n",
              "       [10, 12, 14, 16],\n",
              "       [18, 20, 22, 24]])"
            ]
          },
          "metadata": {},
          "execution_count": 36
        }
      ]
    },
    {
      "cell_type": "code",
      "source": [
        "import numpy as np\n",
        "\n",
        "a = np.array([1, 2, 3, 4])\n",
        "b = np.array([4, 5, 6, 7])\n",
        "\n",
        "suma = a + b\n",
        "print(\"Suma de a y b:\", suma)\n",
        "\n",
        "producto_punto = np.dot(a, b)\n",
        "print(\"Producto punto de a y b:\", producto_punto)\n",
        "\n",
        "n = len(a)  # n = 4\n",
        "for i in range(n):\n",
        "    print(f\"Elemento {i} de a * Elemento {i} de b: {a[i] * b[i]}\")\n"
      ],
      "metadata": {
        "colab": {
          "base_uri": "https://localhost:8080/"
        },
        "id": "B8Pu7yhXwSwa",
        "outputId": "17998834-36f1-4bf7-e534-e963692fa812"
      },
      "execution_count": 3,
      "outputs": [
        {
          "output_type": "stream",
          "name": "stdout",
          "text": [
            "Suma de a y b: [ 5  7  9 11]\n",
            "Producto punto de a y b: 60\n",
            "Elemento 0 de a * Elemento 0 de b: 4\n",
            "Elemento 1 de a * Elemento 1 de b: 10\n",
            "Elemento 2 de a * Elemento 2 de b: 18\n",
            "Elemento 3 de a * Elemento 3 de b: 28\n"
          ]
        }
      ]
    }
  ]
}